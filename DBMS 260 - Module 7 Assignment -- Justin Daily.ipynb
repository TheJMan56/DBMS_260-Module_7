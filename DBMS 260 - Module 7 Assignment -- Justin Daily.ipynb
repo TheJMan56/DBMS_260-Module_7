{
 "cells": [
  {
   "cell_type": "markdown",
   "id": "0a3a6c0d",
   "metadata": {},
   "source": [
    "# Getting Started With Python"
   ]
  },
  {
   "cell_type": "code",
   "execution_count": null,
   "id": "21ecb5c4",
   "metadata": {},
   "outputs": [],
   "source": [
    "name = input(\"Enter Employee Name: \")\n",
    "salary = input(\"Enter salary: \")\n",
    "company = input (\"Enter Company name: \")\n",
    "print(\"Printing Employee Details: \")\n",
    "print (\"Name\", \"Salary\", \"Company\")\n",
    "print (name, salary, company)"
   ]
  },
  {
   "cell_type": "code",
   "execution_count": null,
   "id": "7fd9cc76",
   "metadata": {},
   "outputs": [],
   "source": [
    "# add_numbers is a function that takes two numbers and adds them together.\n",
    "def add_numbers(x, y):\n",
    "    return x + y\n",
    "\n",
    "add_numbers(1, 2)"
   ]
  },
  {
   "cell_type": "code",
   "execution_count": null,
   "id": "70f454e2",
   "metadata": {},
   "outputs": [],
   "source": [
    "# add_numbers updated to take an optional 3rd parameter. Using print allows printing of multiple expressions within a single cell.\n",
    "def add_numbers(x,y,z=None):\n",
    "    if (z==None):\n",
    "        return x+y\n",
    "    else:\n",
    "        return x+y+z\n",
    "\n",
    "print(add_numbers(1, 2))\n",
    "print(add_numbers(1, 2, 3))"
   ]
  },
  {
   "cell_type": "code",
   "execution_count": null,
   "id": "0325e696",
   "metadata": {},
   "outputs": [],
   "source": [
    "# add_numbers updated to take an optional flag parameter.\n",
    "def add_numbers(x, y, z=None, flag=False):\n",
    "    if (flag):\n",
    "        print('Flag is true!')\n",
    "    if (z==None):\n",
    "        return x + y\n",
    "    else:\n",
    "        return x + y + z\n",
    "\n",
    "print(add_numbers(1, 2, flag=True))"
   ]
  },
  {
   "cell_type": "code",
   "execution_count": null,
   "id": "79391cb8",
   "metadata": {},
   "outputs": [],
   "source": [
    "# add_numbers updated to take an optional flag parameter.  Function ends if flag is True.\n",
    "def add_numbers(x, y, z=None, flag=False):\n",
    "    if (flag):\n",
    "        return 'Flag is true!'\n",
    "    elif (z==None):\n",
    "        return x + y\n",
    "    else:\n",
    "        return x + y + z\n",
    "\n",
    "print(add_numbers(1, 2, 3, flag=True))"
   ]
  },
  {
   "cell_type": "code",
   "execution_count": null,
   "id": "5db0fd53",
   "metadata": {},
   "outputs": [],
   "source": [
    "# Assign function add_numbers to variable a.\n",
    "def add_numbers(x,y):\n",
    "    return x+y\n",
    "\n",
    "a = add_numbers\n",
    "a(1,2)"
   ]
  },
  {
   "cell_type": "code",
   "execution_count": null,
   "id": "c1b0796d",
   "metadata": {},
   "outputs": [],
   "source": [
    "# This code returns portions of a string, similar to the substring function in SQL.\n",
    "x = 'This is a string'\n",
    "\n",
    "print(x[0]) #first character\n",
    "print(x[0:1]) #first character, but we have explicitly set the end character\n",
    "print(x[0:2]) #first two characters"
   ]
  },
  {
   "cell_type": "code",
   "execution_count": null,
   "id": "27a8ed18",
   "metadata": {},
   "outputs": [],
   "source": [
    "# This will return the \"ri\" of the string.\n",
    "x = 'This is a string'\n",
    "\n",
    "x[-4:-2]"
   ]
  },
  {
   "cell_type": "code",
   "execution_count": null,
   "id": "fe4cf227",
   "metadata": {},
   "outputs": [],
   "source": [
    "# This will return the last element of the string.\n",
    "x = 'This is a string'\n",
    "\n",
    "x[-1:]"
   ]
  },
  {
   "cell_type": "code",
   "execution_count": null,
   "id": "ec67df31",
   "metadata": {},
   "outputs": [],
   "source": [
    "# This is a slice from the beginning of the string and stopping at the 3rd element..\n",
    "x = 'This is a string'\n",
    "\n",
    "x[:3]"
   ]
  },
  {
   "cell_type": "code",
   "execution_count": null,
   "id": "7d5e8180",
   "metadata": {},
   "outputs": [],
   "source": [
    "# This is a slice from the beginning of the string and stopping before the 3rd element, at the second element..\n",
    "x = 'This is a string'\n",
    "\n",
    "x[:2]"
   ]
  },
  {
   "cell_type": "code",
   "execution_count": null,
   "id": "74a97008",
   "metadata": {},
   "outputs": [],
   "source": [
    "# split returns a list of all the words in a string, or a list split on a specific character.\n",
    "firstname = 'Jean-Luc Picard'.split(' ')[0] # [0] selects the first element of the list\n",
    "lastname = 'Jean-Luc Picard'.split(' ')[-1] # [-1] selects the last element of the list\n",
    "\n",
    "print(firstname)\n",
    "print(lastname)"
   ]
  },
  {
   "cell_type": "code",
   "execution_count": null,
   "id": "974b0a99",
   "metadata": {},
   "outputs": [],
   "source": [
    "# load data from a CSV file ant ourput the first 12 dictionaries.\n",
    "import csv\n",
    "%precision 2\n",
    "\n",
    "with open('C:\\\\Justin\\\\worldstats.csv') as csvfile:\n",
    "    stats = list(csv.DictReader(csvfile))\n",
    "\n",
    "stats[:12] # The first twelve dictionaries in our list."
   ]
  },
  {
   "cell_type": "code",
   "execution_count": null,
   "id": "bc396da2",
   "metadata": {},
   "outputs": [],
   "source": [
    "# load data from a CSV file ant ourput the first 3 dictionaries.\n",
    "import csv\n",
    "%precision 2\n",
    "\n",
    "with open('C:\\\\Justin\\\\worldstats.csv') as csvfile:\n",
    "    stats = list(csv.DictReader(csvfile))\n",
    "\n",
    "stats[:3] # The first three dictionaries in our list."
   ]
  },
  {
   "cell_type": "code",
   "execution_count": null,
   "id": "0a805199",
   "metadata": {},
   "outputs": [],
   "source": [
    "# this code will get the avg population for each country across all years recorded.\n",
    "CountryName = set(d['country'] for d in stats) # get the country names\n",
    "AvgPopByCountry = []\n",
    "\n",
    "for t in CountryName: # iterate over all the countries\n",
    "    pop = 0\n",
    "    i = 0\n",
    "    for d in stats: # iterate over all dictionaries\n",
    "        if d['country'] == t: # if the country name matches\n",
    "            pop += float(d['Population']) # add the hwy mpg\n",
    "            i += 1 # increment the count\n",
    "    AvgPopByCountry.append((t, pop / i)) # append the tuple ('CountryName', 'pop')\n",
    "\n",
    "AvgPopByCountry.sort(key=lambda x: x[0]) # sort by country name i.e. column 0.\n",
    "AvgPopByCountry"
   ]
  },
  {
   "cell_type": "code",
   "execution_count": null,
   "id": "4f5eb7e8",
   "metadata": {},
   "outputs": [],
   "source": [
    "# this code will get the avg population for each year across all years recorded.\n",
    "Year = set(d['year'] for d in stats) # get the country names\n",
    "AvgPopByYear = []\n",
    "\n",
    "for t in Year: # iterate over all the countries\n",
    "    pop = 0\n",
    "    i = 0\n",
    "    for d in stats: # iterate over all dictionaries\n",
    "        if d['year'] == t: # if the year matches\n",
    "            pop += float(d['Population']) # add the hwy mpg\n",
    "            i += 1 # increment the count\n",
    "    AvgPopByYear.append((t, pop / i)) # append the tuple ('Year', 'pop')\n",
    "\n",
    "AvgPopByYear.sort(key=lambda x: x[0]) # sort by year i.e. column 0.\n",
    "AvgPopByYear"
   ]
  },
  {
   "cell_type": "code",
   "execution_count": null,
   "id": "fdc14c42",
   "metadata": {},
   "outputs": [],
   "source": [
    "# use Pandas to import a CSV file and print the first 5 rows\n",
    "import pandas as pd\n",
    "\n",
    "df = pd.read_csv('C:\\\\Justin\\\\worldstats.csv')\n",
    "df.head(5)"
   ]
  },
  {
   "cell_type": "code",
   "execution_count": null,
   "id": "95f9f04c",
   "metadata": {},
   "outputs": [],
   "source": [
    "# use Pandas to import a CSV file and print the last 5 rows\n",
    "import pandas as pd\n",
    "\n",
    "df = pd.read_csv('C:\\\\Justin\\\\worldstats.csv')\n",
    "df.tail(5)"
   ]
  },
  {
   "cell_type": "code",
   "execution_count": null,
   "id": "653f36db",
   "metadata": {},
   "outputs": [],
   "source": [
    "#Enter the details for an inventory item and output the details in formatted output\n",
    "\n",
    "QUIT = \"ZZZ\" #Sentinel value for ending the script\n",
    "\n",
    "while True:\n",
    "    inventorySKU = input(\"Enter the inventory item's SKU, or \" + QUIT + \" to quit: \")\n",
    "    if inventorySKU == QUIT:\n",
    "        break\n",
    "    inventoryName = input(\"Enter the inventory item's name: \")\n",
    "    inventoryPrice = float(input(\"Enter the price of the inventory item: \"))\n",
    "    inventoryQuantity = float(input(\"Enter the amount of inventory: \"))\n",
    "    inventoryValue = inventoryPrice * inventoryQuantity\n",
    "    print(\"\")\n",
    "    print(\"Inventory SKU: \" + inventorySKU + \"\\n\" \\\n",
    "          \"Inventory Name: \" + inventoryName + \"\\n\" \\\n",
    "          \"Inventory Price: \" + str(inventoryPrice) + \"\\n\" \\\n",
    "          \"Inventory Quantity: \" + str(inventoryQuantity) + \"\\n\" \\\n",
    "          \"Inventory Value: \" + str(inventoryValue))\n",
    "    print(\"\")"
   ]
  },
  {
   "cell_type": "code",
   "execution_count": null,
   "id": "5ce68f9a",
   "metadata": {},
   "outputs": [],
   "source": [
    "#Compute the total inventory value of multiple inventory items based the price and quantity of each inventory item\n",
    "\n",
    "QUIT = \"ZZZ\"\n",
    "inventoryTotalValue = 0\n",
    "\n",
    "while True:\n",
    "    inventoryName = input(\"Enter the inventory item's name, or \" + QUIT + \" to quit: \")\n",
    "    if inventoryName == QUIT:\n",
    "        break\n",
    "    inventoryPrice = input(\"Enter the price of the inventory item: \")\n",
    "    inventoryPrice = float(inventoryPrice)\n",
    "    inventoryQuantity = float(input(\"Enter the quantity of the inventory item: \"))\n",
    "    inventoryValue = inventoryPrice * inventoryQuantity\n",
    "    print(\"\")\n",
    "    print(f\"Inventory Name: {inventoryName}\\n\"\n",
    "          f\"Inventory Price: {inventoryPrice}\\n\"\n",
    "          f\"Inventory Quantity: {inventoryQuantity}\\n\"\n",
    "          f\"Inventory Value: {inventoryValue}\\n\")\n",
    "    inventoryTotalValue += inventoryValue\n",
    "\n",
    "print(\"Inventory Total Value: \" +str(inventoryTotalValue))"
   ]
  },
  {
   "cell_type": "code",
   "execution_count": null,
   "id": "19d9aeeb",
   "metadata": {},
   "outputs": [],
   "source": [
    "\"\"\"\n",
    "Based upon what I have done thus far with Python, Python is capable of sifting through data according to specified \n",
    "criteria, and it can perform user-defined operations on the selected data.  A lot of data analysis depends upon the \n",
    "selection of data, so Python can be used to automate the selection process.  After data is selected, operations are \n",
    "performed on it.  Python can be used to define the operations.  As long as the Python logic is well-understood, several \n",
    "forms of analysis can be performed on the data through Python.\n",
    "\n",
    "For managing large datasets, Python has several clear advantages to something like Excel.  Excel is better for storing \n",
    "the data and organizing the data in a way that facilitates analysis, while also having built-in tools for analysis, but \n",
    "Python is more flexible with what it can do.  The trick is to properly comprehend the programming logic that goes into \n",
    "a Python script.  For analysis, Tableau is far more robust than Excel, but it is still technically limited to built-in \n",
    "functions.  With Python, the user has full control over all of the logic for data analysis.  The learning curve for data \n",
    "analysis in Python is more steep, but the potential is greater.\n",
    "\"\"\""
   ]
  },
  {
   "cell_type": "markdown",
   "id": "e1b3a558",
   "metadata": {},
   "source": [
    "# Using Python for Data Analysis"
   ]
  },
  {
   "cell_type": "code",
   "execution_count": null,
   "id": "7d864076",
   "metadata": {},
   "outputs": [],
   "source": [
    "import pandas as pd\n",
    "df = pd.read_csv('C:\\\\Justin\\\\olympics.csv', index_col=0, skiprows=1)\n",
    "for col in df.columns:\n",
    "    if col[:2]=='01':\n",
    "        df.rename(columns={col:'Gold'+col[4:]}, inplace=True)\n",
    "    if col[:2]=='02':\n",
    "        df.rename(columns={col:'Silver'+col[4:]}, inplace=True)\n",
    "    if col[:2]=='03':\n",
    "        df.rename(columns={col:'Bronze'+col[4:]}, inplace=True)\n",
    "    if col[:1]=='№':\n",
    "        df.rename(columns={col:'#'+col[1:]}, inplace=True)\n",
    "names_ids = df.index.str.split('\\s\\(') # split the index by '('\n",
    "df.index = names_ids.str[0] # the [0] element is the country name (new index) \n",
    "df['ID'] = names_ids.str[1].str[:3] # the [1] element is the abbreviation or ID (take first 3 characters from that)\n",
    "\n",
    "df = df.drop('Totals')\n",
    "df.head()\n"
   ]
  },
  {
   "cell_type": "markdown",
   "id": "ad9e6b45",
   "metadata": {},
   "source": [
    "### \n",
    "## Olympics"
   ]
  },
  {
   "cell_type": "code",
   "execution_count": null,
   "id": "94507e76",
   "metadata": {},
   "outputs": [],
   "source": [
    "def answer_one():\n",
    "    x = max(df['Gold'])\n",
    "    ans = df[df['Gold'] == x].index.tolist()\n",
    "    return ans[0]\n",
    "answer_one()"
   ]
  },
  {
   "cell_type": "markdown",
   "id": "8f3eb9e5",
   "metadata": {},
   "source": [
    "### Question 1\n",
    "### According to the above script, the correct answer is 'United States'\n",
    "### "
   ]
  },
  {
   "cell_type": "code",
   "execution_count": null,
   "id": "82230afd",
   "metadata": {},
   "outputs": [],
   "source": [
    "def answer_two():\n",
    "    x = max(df['Gold'] - df['Gold.1'])\n",
    "    ans = df[(df['Gold'] - df['Gold.1']) == x].index.tolist()\n",
    "    return ans[0]\n",
    "answer_two()"
   ]
  },
  {
   "cell_type": "markdown",
   "id": "5fae67c5",
   "metadata": {},
   "source": [
    "### Question 2\n",
    "### According to the above script, the correct answer is 'United States'\n",
    "### "
   ]
  },
  {
   "cell_type": "code",
   "execution_count": null,
   "id": "cbd6ea88",
   "metadata": {},
   "outputs": [],
   "source": [
    "def answer_three():\n",
    "    df_gold = df[(df['Gold']>0) & (df['Gold.1']>0)]\n",
    "    df_max_diff = (abs(df_gold['Gold']-df_gold['Gold.1'])/df_gold['Gold.2'])\n",
    "    return df_max_diff.idxmax()\n",
    "answer_three()"
   ]
  },
  {
   "cell_type": "markdown",
   "id": "18334fe3",
   "metadata": {},
   "source": [
    "### Question 3\n",
    "### According to the above script, the correct answer is 'Bulgaria'\n",
    "### "
   ]
  },
  {
   "cell_type": "markdown",
   "id": "2e7c2bac",
   "metadata": {},
   "source": [
    "\n",
    "## Census"
   ]
  },
  {
   "cell_type": "code",
   "execution_count": null,
   "id": "361a43c2",
   "metadata": {},
   "outputs": [],
   "source": [
    "import pandas as pd\n",
    "census_df = pd.read_csv('C:\\\\Justin\\\\census.csv')\n",
    "census_df.head()\n",
    "\n",
    "def answer_five():\n",
    "    counties_df = census_df[census_df['SUMLEV'] == 50]\n",
    "    x = counties_df.groupby('STNAME').count()['SUMLEV']\n",
    "    ans = x.idxmax()\n",
    "    return ans\n",
    "\n",
    "answer_five()"
   ]
  },
  {
   "cell_type": "markdown",
   "id": "74efa063",
   "metadata": {},
   "source": [
    "### Question 5\n",
    "### According to the above script, the correct answer is 'Texas'\n",
    "### "
   ]
  },
  {
   "cell_type": "code",
   "execution_count": null,
   "id": "13de8220",
   "metadata": {},
   "outputs": [],
   "source": [
    "def answer_six():\n",
    "    counties_df = census_df[census_df['SUMLEV'] == 50]\n",
    "    top_counties_df = counties_df.sort_values(by=['STNAME','CENSUS2010POP'],ascending=False).groupby('STNAME').head(3)\n",
    "    ans = top_counties_df.groupby('STNAME').sum().sort_values(by='CENSUS2010POP').head(3).index.tolist()\n",
    "    return ans\n",
    "answer_six()"
   ]
  },
  {
   "cell_type": "markdown",
   "id": "e558de5d",
   "metadata": {},
   "source": [
    "### Question 6\n",
    "### According to the above script, the correct answer is 'Wyoming, Vermont, North Dakota'\n",
    "### "
   ]
  },
  {
   "cell_type": "code",
   "execution_count": null,
   "id": "92a9bdba",
   "metadata": {},
   "outputs": [],
   "source": [
    "def answer_seven():\n",
    "    counties_df = census_df[census_df['SUMLEV'] == 50]\n",
    "    ans = counties_df[((counties_df['REGION']==1)|(counties_df['REGION']==2))&(counties_df['CTYNAME']=='Washington County')&(counties_df['POPESTIMATE2015']>counties_df['POPESTIMATE2014'])][['STNAME','CTYNAME']]\n",
    "    return ans\n",
    "\n",
    "answer_seven()"
   ]
  },
  {
   "cell_type": "markdown",
   "id": "accfd62b",
   "metadata": {},
   "source": [
    "### Question 7\n",
    "### According to the above script, the correct answer is 'Washington County, Iowa; Washington County, Minnesota; Washington County, Pennsylvania; Washington County, Rhode Island; Washington County, Wisconsin'"
   ]
  },
  {
   "cell_type": "code",
   "execution_count": null,
   "id": "fe3e31fc",
   "metadata": {},
   "outputs": [],
   "source": []
  }
 ],
 "metadata": {
  "kernelspec": {
   "display_name": "Python 3 (ipykernel)",
   "language": "python",
   "name": "python3"
  },
  "language_info": {
   "codemirror_mode": {
    "name": "ipython",
    "version": 3
   },
   "file_extension": ".py",
   "mimetype": "text/x-python",
   "name": "python",
   "nbconvert_exporter": "python",
   "pygments_lexer": "ipython3",
   "version": "3.9.13"
  }
 },
 "nbformat": 4,
 "nbformat_minor": 5
}
